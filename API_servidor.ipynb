{
  "nbformat": 4,
  "nbformat_minor": 0,
  "metadata": {
    "colab": {
      "provenance": []
    },
    "kernelspec": {
      "name": "python3",
      "display_name": "Python 3"
    },
    "language_info": {
      "name": "python"
    }
  },
  "cells": [
    {
      "cell_type": "markdown",
      "source": [
        "# Instalações necessárias"
      ],
      "metadata": {
        "id": "zGvLtjfhW7NJ"
      }
    },
    {
      "cell_type": "code",
      "execution_count": 2,
      "metadata": {
        "colab": {
          "base_uri": "https://localhost:8080/"
        },
        "id": "gwnpz6q5ftUe",
        "outputId": "506419a6-30ec-47cb-9166-d8558302167d"
      },
      "outputs": [
        {
          "output_type": "stream",
          "name": "stdout",
          "text": [
            "Collecting flask_ngrok\n",
            "  Downloading flask_ngrok-0.0.25-py3-none-any.whl (3.1 kB)\n",
            "Requirement already satisfied: Flask>=0.8 in /usr/local/lib/python3.10/dist-packages (from flask_ngrok) (2.2.5)\n",
            "Requirement already satisfied: requests in /usr/local/lib/python3.10/dist-packages (from flask_ngrok) (2.31.0)\n",
            "Requirement already satisfied: Werkzeug>=2.2.2 in /usr/local/lib/python3.10/dist-packages (from Flask>=0.8->flask_ngrok) (3.0.3)\n",
            "Requirement already satisfied: Jinja2>=3.0 in /usr/local/lib/python3.10/dist-packages (from Flask>=0.8->flask_ngrok) (3.1.4)\n",
            "Requirement already satisfied: itsdangerous>=2.0 in /usr/local/lib/python3.10/dist-packages (from Flask>=0.8->flask_ngrok) (2.2.0)\n",
            "Requirement already satisfied: click>=8.0 in /usr/local/lib/python3.10/dist-packages (from Flask>=0.8->flask_ngrok) (8.1.7)\n",
            "Requirement already satisfied: charset-normalizer<4,>=2 in /usr/local/lib/python3.10/dist-packages (from requests->flask_ngrok) (3.3.2)\n",
            "Requirement already satisfied: idna<4,>=2.5 in /usr/local/lib/python3.10/dist-packages (from requests->flask_ngrok) (3.7)\n",
            "Requirement already satisfied: urllib3<3,>=1.21.1 in /usr/local/lib/python3.10/dist-packages (from requests->flask_ngrok) (2.0.7)\n",
            "Requirement already satisfied: certifi>=2017.4.17 in /usr/local/lib/python3.10/dist-packages (from requests->flask_ngrok) (2024.2.2)\n",
            "Requirement already satisfied: MarkupSafe>=2.0 in /usr/local/lib/python3.10/dist-packages (from Jinja2>=3.0->Flask>=0.8->flask_ngrok) (2.1.5)\n",
            "Installing collected packages: flask_ngrok\n",
            "Successfully installed flask_ngrok-0.0.25\n"
          ]
        }
      ],
      "source": [
        "!pip install flask_ngrok"
      ]
    },
    {
      "cell_type": "code",
      "source": [
        "!pip install pyngrok"
      ],
      "metadata": {
        "colab": {
          "base_uri": "https://localhost:8080/"
        },
        "id": "7cgUXCWPhutd",
        "outputId": "c48e0d18-ca0b-4ebd-81b9-6aef3995c98c"
      },
      "execution_count": 3,
      "outputs": [
        {
          "output_type": "stream",
          "name": "stdout",
          "text": [
            "Collecting pyngrok\n",
            "  Downloading pyngrok-7.1.6-py3-none-any.whl (22 kB)\n",
            "Requirement already satisfied: PyYAML>=5.1 in /usr/local/lib/python3.10/dist-packages (from pyngrok) (6.0.1)\n",
            "Installing collected packages: pyngrok\n",
            "Successfully installed pyngrok-7.1.6\n"
          ]
        }
      ]
    },
    {
      "cell_type": "markdown",
      "source": [
        "# Token NGROK necessário para funcionamento"
      ],
      "metadata": {
        "id": "VZ3vOYXrWtCR"
      }
    },
    {
      "cell_type": "code",
      "source": [
        "!ngrok config add-authtoken '2aXE3jVcE9eamm5wX9f6L3NRA0v_asYJ7jHz58z4FeQrZo1m'"
      ],
      "metadata": {
        "colab": {
          "base_uri": "https://localhost:8080/"
        },
        "id": "lMiCK7fulZDH",
        "outputId": "f5716ef7-b7e9-42f7-bba2-e0ff43c3a405"
      },
      "execution_count": 4,
      "outputs": [
        {
          "output_type": "stream",
          "name": "stdout",
          "text": [
            "Authtoken saved to configuration file: /root/.config/ngrok/ngrok.yml\n"
          ]
        }
      ]
    },
    {
      "cell_type": "markdown",
      "source": [
        "# Algoritmo de funcionamneto da API"
      ],
      "metadata": {
        "id": "tN5xpOrvW2-W"
      }
    },
    {
      "cell_type": "code",
      "source": [
        "from flask import Flask, jsonify, request\n",
        "from pyngrok import ngrok\n",
        "\n",
        "app = Flask(__name__)\n",
        "\n",
        "@app.route('/') # método padrão, executado ao se conectar\n",
        "def padrao():\n",
        "  return \"Escolha um dos métodos\"\n",
        "\n",
        "@app.route('/cotacao/')\n",
        "def cotacao():\n",
        "  return '5.34'\n",
        "\n",
        "# '/nome_metodo/<tipo_dado:nome_variavel_a_receber>'\n",
        "@app.route('/conversao/<float:val>')\n",
        "def conversao(val):\n",
        "  return str(val * 5.34) # retorna como um texto SQL ou um dicionario JSON\n",
        "\n",
        "@app.route('/cotacaocompleta', methods=['GET'])\n",
        "# o nome do metodo não precisa ser o mesmo da rota\n",
        "def cotacaocompleta():\n",
        "  argumentos = request.args # traz os argumentos q são passados quando se consulta esta rota, neste serviço\n",
        "  valor = float(argumentos.get('valor'))\n",
        "  mes = argumentos.get('mes')\n",
        "\n",
        "  total = 0.0\n",
        "  if mes == 'Janeiro':\n",
        "    total = valor * 5.34\n",
        "  elif mes == 'Fevereiro':\n",
        "    total = valor * 5.22\n",
        "  elif mes == 'Marco':\n",
        "    total = valor * 5.19\n",
        "\n",
        "  return str(total)  # retorna como um texto SQL ou um dicionario JSON\n",
        "\n",
        "@app.route('/tabela/')\n",
        "def tabela():\n",
        "  # 'jsonify' - transformar dados do tipo 'chave=valor' em um arquivo JSON\n",
        "  return jsonify(Janeiro='5.34',Fevereiro='5.22', Marco='5.19')\n",
        "\n",
        "if __name__ == '__main__':\n",
        "    port = 5000\n",
        "    public_url = ngrok.connect(port)\n",
        "    print(' * ngrok tunnel \"{}\" -> \"http://127.0.0.1:{}/\"'.format(public_url, port))\n",
        "\n",
        "    try:\n",
        "        app.run(port=port)\n",
        "    except KeyboardInterrupt:\n",
        "        ngrok.disconnect(public_url)"
      ],
      "metadata": {
        "colab": {
          "base_uri": "https://localhost:8080/"
        },
        "id": "R4V52L0th8_q",
        "outputId": "0050b5a4-b528-423e-f6ba-2d15eeaae787"
      },
      "execution_count": 8,
      "outputs": [
        {
          "output_type": "stream",
          "name": "stdout",
          "text": [
            " * ngrok tunnel \"NgrokTunnel: \"https://721a-34-106-56-101.ngrok-free.app\" -> \"http://localhost:5000\"\" -> \"http://127.0.0.1:5000/\"\n",
            " * Serving Flask app '__main__'\n",
            " * Debug mode: off\n"
          ]
        },
        {
          "output_type": "stream",
          "name": "stderr",
          "text": [
            "INFO:werkzeug:\u001b[31m\u001b[1mWARNING: This is a development server. Do not use it in a production deployment. Use a production WSGI server instead.\u001b[0m\n",
            " * Running on http://127.0.0.1:5000\n",
            "INFO:werkzeug:\u001b[33mPress CTRL+C to quit\u001b[0m\n",
            "INFO:werkzeug:127.0.0.1 - - [29/May/2024 12:28:32] \"\u001b[32mGET /tabela HTTP/1.1\u001b[0m\" 308 -\n",
            "INFO:werkzeug:127.0.0.1 - - [29/May/2024 12:28:32] \"GET /tabela/ HTTP/1.1\" 200 -\n"
          ]
        }
      ]
    }
  ]
}
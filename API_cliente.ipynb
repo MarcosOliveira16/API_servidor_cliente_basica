{
  "nbformat": 4,
  "nbformat_minor": 0,
  "metadata": {
    "colab": {
      "provenance": []
    },
    "kernelspec": {
      "name": "python3",
      "display_name": "Python 3"
    },
    "language_info": {
      "name": "python"
    }
  },
  "cells": [
    {
      "cell_type": "markdown",
      "source": [
        "# Método padrão"
      ],
      "metadata": {
        "id": "EjMeblJtVVHE"
      }
    },
    {
      "cell_type": "code",
      "source": [
        "import requests\n",
        "\n",
        "# obs: o endereço pode mudar a cada execução do notebook \"API_servidor\"\n",
        "x = requests.get(\"https://399b-34-106-56-101.ngrok-free.app\")\n",
        "print(x.text)"
      ],
      "metadata": {
        "id": "97jMzVZMmpg4",
        "colab": {
          "base_uri": "https://localhost:8080/"
        },
        "outputId": "a5e5da93-0f63-4f4b-ca66-edf852916a97"
      },
      "execution_count": 3,
      "outputs": [
        {
          "output_type": "stream",
          "name": "stdout",
          "text": [
            "Escolha um dos métodos\n"
          ]
        }
      ]
    },
    {
      "cell_type": "markdown",
      "source": [
        "# Método \"cotacao\" que retorna a cotação definida na API servidor"
      ],
      "metadata": {
        "id": "nOlDNp9SV1kR"
      }
    },
    {
      "cell_type": "code",
      "execution_count": null,
      "metadata": {
        "colab": {
          "base_uri": "https://localhost:8080/"
        },
        "id": "pWzVHyGef1Nj",
        "outputId": "a03fca87-3a4a-47ff-d74c-c75516756512"
      },
      "outputs": [
        {
          "output_type": "stream",
          "name": "stdout",
          "text": [
            "5.34\n",
            "<Response [200]>\n"
          ]
        }
      ],
      "source": [
        "import requests\n",
        "\n",
        "x = requests.get(\"https://9489-34-90-139-74.ngrok-free.app/cotacao\")\n",
        "print(x.text)\n",
        "print(x)"
      ]
    },
    {
      "cell_type": "markdown",
      "source": [
        "# Método \"conversao\" que retorna o valor convertido de acordo com a definição na API servidor"
      ],
      "metadata": {
        "id": "etjJ1u5qV9iW"
      }
    },
    {
      "cell_type": "code",
      "source": [
        "import requests\n",
        "\n",
        "# espera um valor 'float'\n",
        "x = requests.get(\"https://88ae-34-106-56-101.ngrok-free.app/conversao/200.0\")\n",
        "print(x.text)"
      ],
      "metadata": {
        "colab": {
          "base_uri": "https://localhost:8080/"
        },
        "id": "q7B2DUABQe6Y",
        "outputId": "46fb2686-45b2-499d-bdf3-1bef8924b1c3"
      },
      "execution_count": 6,
      "outputs": [
        {
          "output_type": "stream",
          "name": "stdout",
          "text": [
            "1068.0\n"
          ]
        }
      ]
    },
    {
      "cell_type": "markdown",
      "source": [
        "# Método \"cotacaocompleta\" que retorna o valor convertido dados os parâmentros passados"
      ],
      "metadata": {
        "id": "ZQujdowXWQDm"
      }
    },
    {
      "cell_type": "code",
      "source": [
        "import requests\n",
        "\n",
        "# \"endereço/nome_metodo ?(separador quando se recebe paramentros) variavel=valor_receber &(separador quando se recebe mais de uma paramentro) variavel=valor_receber\"\n",
        "x = requests.get(\"https://7acc-34-106-56-101.ngrok-free.app/cotacaocompleta?valor=100&mes=Marco\")\n",
        "print(x.text)"
      ],
      "metadata": {
        "colab": {
          "base_uri": "https://localhost:8080/"
        },
        "id": "AVD94ZhBSunC",
        "outputId": "2ad8a666-36b2-43c3-938b-7f3aa4034d5a"
      },
      "execution_count": 11,
      "outputs": [
        {
          "output_type": "stream",
          "name": "stdout",
          "text": [
            "519.0\n"
          ]
        }
      ]
    },
    {
      "cell_type": "markdown",
      "source": [
        "# Método \"tabela\" que retorna uma tabela, esta que se refere aos valores disponíveis para conversão"
      ],
      "metadata": {
        "id": "IkgqkB2SWeQ7"
      }
    },
    {
      "cell_type": "code",
      "source": [
        "import requests\n",
        "\n",
        "# \"endereço/nome_metodo ?(separador quando se recebe paramentros) variavel=valor_receber &(separador quando se recebe mais de uma paramentro) variavel=valor_receber\"\n",
        "x = requests.get(\"https://721a-34-106-56-101.ngrok-free.app/tabela\")\n",
        "print(x.text)"
      ],
      "metadata": {
        "colab": {
          "base_uri": "https://localhost:8080/"
        },
        "id": "7419MsCjUhW5",
        "outputId": "b84186a3-4548-4606-f646-1b9a67495b2d"
      },
      "execution_count": 12,
      "outputs": [
        {
          "output_type": "stream",
          "name": "stdout",
          "text": [
            "{\"Fevereiro\":\"5.22\",\"Janeiro\":\"5.34\",\"Marco\":\"5.19\"}\n",
            "\n"
          ]
        }
      ]
    }
  ]
}